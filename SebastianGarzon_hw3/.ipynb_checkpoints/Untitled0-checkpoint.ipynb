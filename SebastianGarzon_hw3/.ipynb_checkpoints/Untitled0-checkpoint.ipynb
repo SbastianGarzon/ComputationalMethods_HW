{
 "metadata": {
  "name": "",
  "signature": "sha256:8dc438db7e8dbd92eb780d17872ffce5dbc003d2e89bc27ec4193f669062c239"
 },
 "nbformat": 3,
 "nbformat_minor": 0,
 "worksheets": []
}